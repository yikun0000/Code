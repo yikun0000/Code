{
 "cells": [
  {
   "cell_type": "code",
   "execution_count": 1,
   "metadata": {},
   "outputs": [
    {
     "name": "stdout",
     "output_type": "stream",
     "text": [
      "0.7855490345138398\n",
      "0.7883183892018131\n",
      "0.7838280318052777\n",
      "0.7866314229555562\n",
      "0.7858323005965283\n"
     ]
    }
   ],
   "source": [
    "import pandas as pd\n",
    "from sklearn import linear_model\n",
    "from sklearn import metrics\n",
    "from sklearn import preprocessing\n",
    "def run(fold):\n",
    "    # 读取分层k折交叉检验数据\n",
    "    df = pd.read_csv(\"cat_train_folds.csv\")\n",
    "    # 取除\"id\", \"target\", \"kfold\"外的其他特征列\n",
    "    features = [\n",
    "        f for f in df.columns if f not in (\"id\", \"target\", \"kfold\") \n",
    "    ]\n",
    "    # 遍历特征列表\n",
    "    for col in features:\n",
    "        # 将空值置为\"NONE\"\n",
    "        df.loc[:, col] = df[col].astype(str).fillna(\"NONE\")\n",
    "    # 取训练集（kfold列中不为fold的样本，重置索引）\n",
    "    df_train = df[df.kfold != fold].reset_index(drop=True) \n",
    "    # 取验证集（kfold列中为fold的样本，重置索引）\n",
    "    df_valid = df[df.kfold == fold].reset_index(drop=True) \n",
    "    # 独热编码\n",
    "    ohe = preprocessing.OneHotEncoder()\n",
    "    # 将训练集、验证集沿行合并\n",
    "    full_data = pd.concat([df_train[features], df_valid[features]], axis=0)\n",
    "    ohe.fit(full_data[features])\n",
    "    # 转换训练集\n",
    "    x_train = ohe.transform(df_train[features])\n",
    "    # 转换测试集\n",
    "    x_valid = ohe.transform(df_valid[features])\n",
    "    # 逻辑回归\n",
    "    model = linear_model.LogisticRegression(max_iter=10000)\n",
    "    # 使用训练集训练模型\n",
    "    model.fit(x_train, df_train.target.values)\n",
    "    # 使用验证集得到预测标签\n",
    "    valid_preds = model.predict_proba(x_valid)[:, 1]\n",
    "    train_preds = model.predict_proba(x_train)[:, 1]\n",
    "    # 计算auc指标\n",
    "    auc1 = metrics.roc_auc_score(df_train.target.values, train_preds)\n",
    "    auc = metrics.roc_auc_score(df_valid.target.values, valid_preds)\n",
    "    print(auc)\n",
    "if __name__ == \"__main__\":\n",
    "    # 运行折叠0\n",
    "    for i in range(5):\n",
    "        run(i)"
   ]
  }
 ],
 "metadata": {
  "kernelspec": {
   "display_name": "Python 3",
   "language": "python",
   "name": "python3"
  },
  "language_info": {
   "codemirror_mode": {
    "name": "ipython",
    "version": 3
   },
   "file_extension": ".py",
   "mimetype": "text/x-python",
   "name": "python",
   "nbconvert_exporter": "python",
   "pygments_lexer": "ipython3",
   "version": "3.11.2"
  }
 },
 "nbformat": 4,
 "nbformat_minor": 2
}
