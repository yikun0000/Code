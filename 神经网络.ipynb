{
 "cells": [
  {
   "cell_type": "code",
   "execution_count": 7,
   "metadata": {},
   "outputs": [],
   "source": [
    "import os\n",
    "import gc\n",
    "import joblib\n",
    "import pandas as pd\n",
    "import numpy as np\n",
    "from sklearn import metrics,preprocessing\n",
    "from torch import nn\n",
    "from torch.nn import functional as F\n",
    "import torch"
   ]
  },
  {
   "cell_type": "code",
   "execution_count": 2,
   "metadata": {},
   "outputs": [],
   "source": [
    "import torch\n",
    "import torch.nn as nn\n",
    "\n",
    "class MultiCategoryEmbedding(nn.Module):\n",
    "    def __init__(self, num_categories_list, embedding_dim_list):\n",
    "        super(MultiCategoryEmbedding, self).__init__()\n",
    "\n",
    "        # 使用 nn.ModuleList 创建嵌入层列表\n",
    "        self.embedding_list = nn.ModuleList([\n",
    "            nn.Embedding(num_categories, embedding_dim)\n",
    "            for num_categories, embedding_dim in zip(num_categories_list, embedding_dim_list)\n",
    "        ])\n",
    "\n",
    "    def forward(self, category_tensors):\n",
    "        # 对每个分类变量分别进行嵌入\n",
    "        embedded_values_list = [embedding(category_tensor) for embedding, category_tensor in zip(self.embedding_list, category_tensors)]\n",
    "\n",
    "        # 拼接所有嵌入结果\n",
    "        combined_embedding = torch.cat(embedded_values_list, dim=1)\n",
    "        return combined_embedding"
   ]
  },
  {
   "cell_type": "code",
   "execution_count": 3,
   "metadata": {},
   "outputs": [],
   "source": [
    "class block1(nn.Module):\n",
    "    def __init__(self,inputs,outputs):\n",
    "        super().__init__()       \n",
    "        #self.net = nn.Sequential(nn.Dropout(0.5),nn.BatchNorm1d(inputs),nn.Linear(inputs,outputs),nn.ReLU())\n",
    "        self.net = nn.Sequential(nn.BatchNorm1d(inputs),nn.Linear(inputs,outputs),nn.ReLU())\n",
    "    def forward(self,X):\n",
    "        return self.net(X)"
   ]
  },
  {
   "cell_type": "code",
   "execution_count": 4,
   "metadata": {},
   "outputs": [],
   "source": [
    "def create_model(data,catcols):\n",
    "    num_categories_list = []\n",
    "    embedding_dim_list = []\n",
    "    for c in catcols:\n",
    "        num_unique_values = int(data[c].nunique())\n",
    "        embed_dim = int(min(np.ceil(num_unique_values/2),50))\n",
    "        #embed_dim = int(np.ceil(num_unique_values/2))\n",
    "        num_categories_list.append(num_unique_values)\n",
    "        embedding_dim_list.append(embed_dim)\n",
    "    net = nn.Sequential()\n",
    "    net.add_module('1',MultiCategoryEmbedding(num_categories_list,embedding_dim_list))\n",
    "    net.add_module('20',block1(sum(embedding_dim_list),300))\n",
    "    net.add_module('21',block1(300,300))\n",
    "    #net.add_module('22',block1(300,300))\n",
    "    net.add_module('23',block1(300,100))\n",
    "    net.add_module('24',block1(100,1))\n",
    "    return net"
   ]
  },
  {
   "cell_type": "code",
   "execution_count": 8,
   "metadata": {},
   "outputs": [],
   "source": [
    "from torch.utils.data import TensorDataset, DataLoader\n",
    "def train(net,train_features,train_labels,num_epochs,learning_rate,weight_decay,batch_size):\n",
    "    train_set = TensorDataset(train_features,train_labels)\n",
    "    train_iter = DataLoader(train_set,batch_size=batch_size,shuffle=True)\n",
    "    optimizer = torch.optim.Adam(net.parameters(),lr=learning_rate)\n",
    "    loss = nn.CrossEntropyLoss()\n",
    "    try:\n",
    "        for epoch in range(num_epochs):\n",
    "            total_loss = 0.0\n",
    "            for X,y in train_iter:\n",
    "                optimizer.zero_grad()\n",
    "                l = loss(net(X.T).reshape(y.shape),y)\n",
    "                l.backward()\n",
    "                optimizer.step()\n",
    "                total_loss += l.item()\n",
    "            avg_loss = total_loss / len(train_iter)\n",
    "            #print(f'Epoch [{epoch+1}/{num_epochs}], Loss: {avg_loss}')\n",
    "    except Exception as e:\n",
    "        print(f\"An error occurred during training: {e}\")\n",
    "    return net"
   ]
  },
  {
   "cell_type": "code",
   "execution_count": 9,
   "metadata": {},
   "outputs": [
    {
     "name": "stdout",
     "output_type": "stream",
     "text": [
      "0.7844051416394257\n",
      "0.8117096094752007\n"
     ]
    }
   ],
   "source": [
    "fold = 0\n",
    "df = pd.read_csv(\"cat_train_folds.csv\")\n",
    "features = [f for f in df.columns if f not in (\"id\", \"target\", \"kfold\")]\n",
    "for col in features:\n",
    "    df.loc[:, col] = df[col].astype(str).fillna(\"NONE\")\n",
    "\n",
    "for feat in features:\n",
    "    lbl_enc = preprocessing.LabelEncoder()\n",
    "    df.loc[:, feat] = lbl_enc.fit_transform(df[feat].values)\n",
    "\n",
    "df_train = df[df.kfold != fold].reset_index(drop=True)\n",
    "df_valid = df[df.kfold == fold].reset_index(drop=True)\n",
    "\n",
    "xtrain = torch.tensor(df_train[features].values.astype('int64'))\n",
    "xvalid = torch.tensor(df_valid[features].values.astype('int64'))\n",
    "ytrain = torch.tensor(df_train.target.values.astype('float32'))\n",
    "yvalid = torch.tensor(df_valid.target.values.astype('float32'))\n",
    "\n",
    "net = create_model(df, features)\n",
    "net = train(net, xtrain, ytrain, 3, 0.01, 1,1024)\n",
    "\n",
    "y = net(xvalid.T).detach()\n",
    "print(metrics.roc_auc_score(yvalid,y.reshape(yvalid.shape)))\n",
    "y1 = net(xtrain.T).detach()\n",
    "print(metrics.roc_auc_score(ytrain,y1.reshape(ytrain.shape)))"
   ]
  },
  {
   "cell_type": "code",
   "execution_count": 6,
   "metadata": {},
   "outputs": [
    {
     "name": "stdout",
     "output_type": "stream",
     "text": [
      "0.783257693618115\n",
      "0.7826237332696006\n",
      "0.7807748535337764\n",
      "0.782462469058828\n",
      "0.7824744391722005\n"
     ]
    }
   ],
   "source": [
    "def run(fold):\n",
    "    df = pd.read_csv(\"cat_train_folds.csv\")\n",
    "    features = [f for f in df.columns if f not in (\"id\", \"target\", \"kfold\")]\n",
    "    for col in features:\n",
    "        df.loc[:, col] = df[col].astype(str).fillna(\"NONE\")\n",
    "\n",
    "    for feat in features:\n",
    "        lbl_enc = preprocessing.LabelEncoder()\n",
    "        df.loc[:, feat] = lbl_enc.fit_transform(df[feat].values)\n",
    "\n",
    "    df_train = df[df.kfold != fold].reset_index(drop=True)\n",
    "    df_valid = df[df.kfold == fold].reset_index(drop=True)\n",
    "\n",
    "    xtrain = torch.tensor(df_train[features].values.astype('int64'))\n",
    "    xvalid = torch.tensor(df_valid[features].values.astype('int64'))\n",
    "    ytrain = torch.tensor(df_train.target.values.astype('float32'))\n",
    "    yvalid = torch.tensor(df_valid.target.values.astype('float32'))\n",
    "\n",
    "    net = create_model(df, features)\n",
    "    net = train(net, xtrain, ytrain, 3, 0.01, 1,1024)\n",
    "\n",
    "    y = net(xvalid.T).detach()\n",
    "    print(metrics.roc_auc_score(yvalid,y.reshape(yvalid.shape)))\n",
    "    #y1 = net(xtrain.T).detach()\n",
    "    #print(metrics.roc_auc_score(ytrain,y1.reshape(ytrain.shape)))\n",
    "if __name__==\"__main__\":\n",
    "    for fold in range(5):\n",
    "        run(fold)"
   ]
  }
 ],
 "metadata": {
  "kernelspec": {
   "display_name": "Python 3",
   "language": "python",
   "name": "python3"
  },
  "language_info": {
   "codemirror_mode": {
    "name": "ipython",
    "version": 3
   },
   "file_extension": ".py",
   "mimetype": "text/x-python",
   "name": "python",
   "nbconvert_exporter": "python",
   "pygments_lexer": "ipython3",
   "version": "3.11.2"
  }
 },
 "nbformat": 4,
 "nbformat_minor": 2
}
